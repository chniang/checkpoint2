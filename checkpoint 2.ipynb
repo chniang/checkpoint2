{
 "cells": [
  {
   "cell_type": "code",
   "execution_count": null,
   "id": "a0f13986-d0cc-4a59-b7f3-c0c52d9b6911",
   "metadata": {},
   "outputs": [],
   "source": [
    "print(\"Bienvenue dans le jeu Devinez le nombre ! Je pense a un nombre entre 1 et 100, pouvez vous le devinez ?\")\n",
    "import random\n",
    "nombre_aleatoire=random.randint(1,1000)\n",
    "supposition = 0\n",
    "while supposition != nombre_aleatoire:\n",
    "    supposition=int(input(\"entrer votre supposition entre 1 et 100\"))\n",
    "    if supposition < nombre_aleatoire:\n",
    "        print(\"votre supposition est trop basse,essayez un nombre plus eleve\")\n",
    "    elif supposition > nombre_aleatoire:\n",
    "        print(\"votre supposition est trop elevee,essayez un nombre plus bas\")\n",
    "    else:\n",
    "        print(\"felicitation ! vous avez trouve\")\n",
    "\n"
   ]
  }
 ],
 "metadata": {
  "kernelspec": {
   "display_name": "Python 3 (ipykernel)",
   "language": "python",
   "name": "python3"
  },
  "language_info": {
   "codemirror_mode": {
    "name": "ipython",
    "version": 3
   },
   "file_extension": ".py",
   "mimetype": "text/x-python",
   "name": "python",
   "nbconvert_exporter": "python",
   "pygments_lexer": "ipython3",
   "version": "3.12.4"
  }
 },
 "nbformat": 4,
 "nbformat_minor": 5
}
